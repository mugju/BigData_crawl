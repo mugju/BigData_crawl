{
 "metadata": {
  "language_info": {
   "codemirror_mode": {
    "name": "ipython",
    "version": 3
   },
   "file_extension": ".py",
   "mimetype": "text/x-python",
   "name": "python",
   "nbconvert_exporter": "python",
   "pygments_lexer": "ipython3",
   "version": "3.8.5"
  },
  "orig_nbformat": 2,
  "kernelspec": {
   "name": "python3",
   "display_name": "Python 3.8.5 64-bit ('base': conda)"
  },
  "interpreter": {
   "hash": "e4a133c35d994b6e8cf7257076c3a7b1eae23e6e0ca74e88abf4a73b029acfb4"
  }
 },
 "nbformat": 4,
 "nbformat_minor": 2,
 "cells": [
  {
   "source": [
    "이제는 알바천국을 조진다."
   ],
   "cell_type": "markdown",
   "metadata": {}
  },
  {
   "cell_type": "code",
   "execution_count": 1,
   "metadata": {
    "tags": []
   },
   "outputs": [],
   "source": [
    "import pandas as pd\n",
    "import numpy as np \n",
    "\n"
   ]
  },
  {
   "cell_type": "code",
   "execution_count": 4,
   "metadata": {},
   "outputs": [],
   "source": [
    "df = pd.read_csv('albamon.csv',encoding='CP949')"
   ]
  },
  {
   "cell_type": "code",
   "execution_count": 6,
   "metadata": {},
   "outputs": [],
   "source": [
    "df2 = pd.read_csv('albaheaven.csv',encoding='cp949')"
   ]
  },
  {
   "cell_type": "code",
   "execution_count": 10,
   "metadata": {},
   "outputs": [],
   "source": [
    "df3 = df.append(df2)"
   ]
  },
  {
   "cell_type": "code",
   "execution_count": 11,
   "metadata": {},
   "outputs": [
    {
     "output_type": "execute_result",
     "data": {
      "text/plain": [
       "          지역          근무회사                     근무시간        급여   올린시간  \\\n",
       "0    시흥시 월곶동      경춘선춘천닭갈비              05:00~09:00    9,000원  07/14   \n",
       "1    시흥시 정왕동          나래인력              09:00~18:00    8,720원  07/14   \n",
       "2     시흥시 전체       정가네과일야채              08:30~22:00    9,000원  07/14   \n",
       "3    시흥시 정왕동         도미노피자                     시간협의    8,720원  07/14   \n",
       "4    시흥시 은행동  이마트24 시흥금오로점              08:00~15:00    8,720원  07/14   \n",
       "..       ...           ...                      ...       ...    ...   \n",
       "106  시흥시 신천동       7080라이브       19:00~22:00 (협의가능)  시급10,000  07/11   \n",
       "107  시흥시 정왕동           에스바       18:00~03:00 (협의가능)  시급30,000  06/27   \n",
       "108  시흥시 신천동   배달시대&amp;부릉       00:00~24:00 (협의가능)   건별3,100  07/06   \n",
       "109  시흥시 은행동          하루키친       10:00~17:00 (협의가능)   시급8,720  07/14   \n",
       "110  시흥시 은행동   김밥천국 은행사거리점  22:00~10:00 (로테이션,협의가능)   시급8,720  07/14   \n",
       "\n",
       "                                          알바설명  \n",
       "0                               함께일할  직원 구합니다.  \n",
       "1                화장품 회사 / 남자 / 8시간 근무 / 휴학생 환영  \n",
       "2                      정가네과일야채 에서 일요일 알바 모집합니다  \n",
       "3                      도미노피자 배곧점에서 피자메이커 모집합니다  \n",
       "4                E금오로점 주말오전 8시부터 15시까지(문자지원하세요  \n",
       "..                                         ...  \n",
       "106                   시급1만원+알파홀서빙 (여)직원 모집합니다.  \n",
       "107     배곧신도시 에스바 직원,알바/1일근무가능 당일지급 대학생단기 알바환영  \n",
       "108                   시흥-신청 부릉 기사, 배달 대행 기사 모집  \n",
       "109                               하루키친 반찬가게 모집  \n",
       "110  【추천 / 근무환경 좋음 】야간주방/ 홀써빙/주방보조 (김밥집경력자) 구함  \n",
       "\n",
       "[215 rows x 6 columns]"
      ],
      "text/html": "<div>\n<style scoped>\n    .dataframe tbody tr th:only-of-type {\n        vertical-align: middle;\n    }\n\n    .dataframe tbody tr th {\n        vertical-align: top;\n    }\n\n    .dataframe thead th {\n        text-align: right;\n    }\n</style>\n<table border=\"1\" class=\"dataframe\">\n  <thead>\n    <tr style=\"text-align: right;\">\n      <th></th>\n      <th>지역</th>\n      <th>근무회사</th>\n      <th>근무시간</th>\n      <th>급여</th>\n      <th>올린시간</th>\n      <th>알바설명</th>\n    </tr>\n  </thead>\n  <tbody>\n    <tr>\n      <th>0</th>\n      <td>시흥시 월곶동</td>\n      <td>경춘선춘천닭갈비</td>\n      <td>05:00~09:00</td>\n      <td>9,000원</td>\n      <td>07/14</td>\n      <td>함께일할  직원 구합니다.</td>\n    </tr>\n    <tr>\n      <th>1</th>\n      <td>시흥시 정왕동</td>\n      <td>나래인력</td>\n      <td>09:00~18:00</td>\n      <td>8,720원</td>\n      <td>07/14</td>\n      <td>화장품 회사 / 남자 / 8시간 근무 / 휴학생 환영</td>\n    </tr>\n    <tr>\n      <th>2</th>\n      <td>시흥시 전체</td>\n      <td>정가네과일야채</td>\n      <td>08:30~22:00</td>\n      <td>9,000원</td>\n      <td>07/14</td>\n      <td>정가네과일야채 에서 일요일 알바 모집합니다</td>\n    </tr>\n    <tr>\n      <th>3</th>\n      <td>시흥시 정왕동</td>\n      <td>도미노피자</td>\n      <td>시간협의</td>\n      <td>8,720원</td>\n      <td>07/14</td>\n      <td>도미노피자 배곧점에서 피자메이커 모집합니다</td>\n    </tr>\n    <tr>\n      <th>4</th>\n      <td>시흥시 은행동</td>\n      <td>이마트24 시흥금오로점</td>\n      <td>08:00~15:00</td>\n      <td>8,720원</td>\n      <td>07/14</td>\n      <td>E금오로점 주말오전 8시부터 15시까지(문자지원하세요</td>\n    </tr>\n    <tr>\n      <th>...</th>\n      <td>...</td>\n      <td>...</td>\n      <td>...</td>\n      <td>...</td>\n      <td>...</td>\n      <td>...</td>\n    </tr>\n    <tr>\n      <th>106</th>\n      <td>시흥시 신천동</td>\n      <td>7080라이브</td>\n      <td>19:00~22:00 (협의가능)</td>\n      <td>시급10,000</td>\n      <td>07/11</td>\n      <td>시급1만원+알파홀서빙 (여)직원 모집합니다.</td>\n    </tr>\n    <tr>\n      <th>107</th>\n      <td>시흥시 정왕동</td>\n      <td>에스바</td>\n      <td>18:00~03:00 (협의가능)</td>\n      <td>시급30,000</td>\n      <td>06/27</td>\n      <td>배곧신도시 에스바 직원,알바/1일근무가능 당일지급 대학생단기 알바환영</td>\n    </tr>\n    <tr>\n      <th>108</th>\n      <td>시흥시 신천동</td>\n      <td>배달시대&amp;amp;부릉</td>\n      <td>00:00~24:00 (협의가능)</td>\n      <td>건별3,100</td>\n      <td>07/06</td>\n      <td>시흥-신청 부릉 기사, 배달 대행 기사 모집</td>\n    </tr>\n    <tr>\n      <th>109</th>\n      <td>시흥시 은행동</td>\n      <td>하루키친</td>\n      <td>10:00~17:00 (협의가능)</td>\n      <td>시급8,720</td>\n      <td>07/14</td>\n      <td>하루키친 반찬가게 모집</td>\n    </tr>\n    <tr>\n      <th>110</th>\n      <td>시흥시 은행동</td>\n      <td>김밥천국 은행사거리점</td>\n      <td>22:00~10:00 (로테이션,협의가능)</td>\n      <td>시급8,720</td>\n      <td>07/14</td>\n      <td>【추천 / 근무환경 좋음 】야간주방/ 홀써빙/주방보조 (김밥집경력자) 구함</td>\n    </tr>\n  </tbody>\n</table>\n<p>215 rows × 6 columns</p>\n</div>"
     },
     "metadata": {},
     "execution_count": 11
    }
   ],
   "source": [
    "df3"
   ]
  }
 ]
}