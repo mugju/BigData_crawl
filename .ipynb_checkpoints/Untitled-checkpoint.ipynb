{
 "cells": [
  {
   "cell_type": "markdown",
   "metadata": {},
   "source": [
    "# 빅데이터 과제 Beautiful soup 사용.\n",
    "\n",
    "### 크롤링할 내용 컬럼은 (카테고리 , 시/군/구 , 올린시각 , 상품이름 , 상품상태 , 상품태그)"
   ]
  },
  {
   "cell_type": "code",
   "execution_count": 1,
   "metadata": {},
   "outputs": [],
   "source": [
    "from bs4 import BeautifulSoup\n",
    "import urllib.request\n",
    "import pandas as pd "
   ]
  },
  {
   "cell_type": "code",
   "execution_count": null,
   "metadata": {},
   "outputs": [],
   "source": [
    "result = [] #결과를 저장할 list \n",
    "\n",
    "html = urllib.request.urlopen(Hollys_url)\n",
    "soupHollys = BeautifulSoup(html, 'html.parser')\n",
    "tag_tbody = soupHollys.find('tbody')\n",
    "for store in tag_tbody.find_all('tr'):\n",
    "    if len(store) <= 3:\n",
    "        break    \n",
    "store_td = store.find_all('td')\n",
    "store_name = store_td[1].string\n",
    "store_sido = store_td[0].string\n",
    "store_address = store_td[3].string\n",
    "store_phone = store_td[5].string\n",
    "result.append([store_name]+[store_sido]+[store_address]+[store_phone])\n"
   ]
  },
  {
   "cell_type": "code",
   "execution_count": null,
   "metadata": {},
   "outputs": [],
   "source": []
  }
 ],
 "metadata": {
  "kernelspec": {
   "display_name": "Python 3",
   "language": "python",
   "name": "python3"
  },
  "language_info": {
   "codemirror_mode": {
    "name": "ipython",
    "version": 3
   },
   "file_extension": ".py",
   "mimetype": "text/x-python",
   "name": "python",
   "nbconvert_exporter": "python",
   "pygments_lexer": "ipython3",
   "version": "3.8.5"
  }
 },
 "nbformat": 4,
 "nbformat_minor": 4
}
